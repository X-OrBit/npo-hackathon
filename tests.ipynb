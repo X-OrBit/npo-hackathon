{
 "cells": [
  {
   "metadata": {
    "ExecuteTime": {
     "end_time": "2024-04-14T06:07:28.998886Z",
     "start_time": "2024-04-14T06:07:28.476549Z"
    }
   },
   "cell_type": "code",
   "source": "import pandas as pd",
   "id": "67c4dc0d335bd5a1",
   "outputs": [],
   "execution_count": 2
  },
  {
   "cell_type": "code",
   "id": "initial_id",
   "metadata": {
    "collapsed": true,
    "ExecuteTime": {
     "end_time": "2024-04-14T06:07:31.007782Z",
     "start_time": "2024-04-14T06:07:28.999843Z"
    }
   },
   "source": [
    "df = pd.read_csv(\"test.csv\", encoding=\"utf-8\")\n",
    "df.set_index(\"client_id\")\n",
    "len(df)"
   ],
   "outputs": [
    {
     "data": {
      "text/plain": [
       "633434"
      ]
     },
     "execution_count": 3,
     "metadata": {},
     "output_type": "execute_result"
    }
   ],
   "execution_count": 3
  },
  {
   "metadata": {
    "ExecuteTime": {
     "end_time": "2024-04-14T06:08:41.874525Z",
     "start_time": "2024-04-14T06:08:41.845447Z"
    }
   },
   "cell_type": "code",
   "source": "df.columns",
   "id": "e6945822acdeef0c",
   "outputs": [
    {
     "data": {
      "text/plain": [
       "Index(['slctn_nmbr', 'client_id', 'npo_account_id', 'npo_accnts_nmbr',\n",
       "       'pmnts_type', 'year', 'quarter', 'gender', 'age', 'clnt_cprtn_time_d',\n",
       "       'actv_prd_d', 'lst_pmnt_rcnc_d', 'balance', 'oprtn_sum_per_qrtr',\n",
       "       'oprtn_sum_per_year', 'frst_pmnt_date', 'lst_pmnt_date_per_qrtr',\n",
       "       'frst_pmnt', 'lst_pmnt', 'pmnts_sum', 'pmnts_nmbr',\n",
       "       'pmnts_sum_per_qrtr', 'pmnts_sum_per_year', 'pmnts_nmbr_per_qrtr',\n",
       "       'pmnts_nmbr_per_year', 'incm_sum', 'incm_per_qrtr', 'incm_per_year',\n",
       "       'mgd_accum_period', 'mgd_payment_period', 'phone_number', 'email', 'lk',\n",
       "       'assignee_npo', 'assignee_ops', 'postal_code', 'region', 'citizen',\n",
       "       'fact_addrss', 'appl_mrkr', 'evry_qrtr_pmnt'],\n",
       "      dtype='object')"
      ]
     },
     "execution_count": 5,
     "metadata": {},
     "output_type": "execute_result"
    }
   ],
   "execution_count": 5
  },
  {
   "metadata": {
    "ExecuteTime": {
     "end_time": "2024-04-14T06:21:24.380048Z",
     "start_time": "2024-04-14T06:21:24.278887Z"
    }
   },
   "cell_type": "code",
   "source": [
    "print(df[\"year\"].sort_values(ascending=False).head(10))\n",
    "df[\"year\"].sort_values().head(10)"
   ],
   "id": "dd54d84c86a9ce55",
   "outputs": [
    {
     "name": "stdout",
     "output_type": "stream",
     "text": [
      "16668     2023\n",
      "178367    2023\n",
      "456385    2023\n",
      "304603    2023\n",
      "226091    2023\n",
      "567203    2023\n",
      "399676    2023\n",
      "143084    2023\n",
      "129286    2023\n",
      "444992    2023\n",
      "Name: year, dtype: int64\n"
     ]
    },
    {
     "data": {
      "text/plain": [
       "88867     1993\n",
       "244389    1993\n",
       "283953    1993\n",
       "482068    1993\n",
       "364481    1993\n",
       "77604     1993\n",
       "610303    1993\n",
       "114025    1993\n",
       "283705    1993\n",
       "169419    1993\n",
       "Name: year, dtype: int64"
      ]
     },
     "execution_count": 13,
     "metadata": {},
     "output_type": "execute_result"
    }
   ],
   "execution_count": 13
  },
  {
   "metadata": {
    "ExecuteTime": {
     "end_time": "2024-04-14T06:10:38.982431Z",
     "start_time": "2024-04-14T06:10:38.689392Z"
    }
   },
   "cell_type": "code",
   "source": "df.groupby(by=\"npo_account_id\")[\"npo_account_id\"].count().sort_values(ascending=False).head(10)",
   "id": "442a952247a4b579",
   "outputs": [
    {
     "data": {
      "text/plain": [
       "npo_account_id\n",
       "0x79EAA6E81B6CC3449FA30228BF976DC0    38\n",
       "0x9A74BC0029260743BB6DB374EE5B1BA8    35\n",
       "0x80FF2779C877CB4697F92A1BB84663B5    25\n",
       "0xAC1D6C875B8CAD43BF6B18A6E0C8D83F    24\n",
       "0xD8ADE6B8878B664BA9B998B993AAC0CA    24\n",
       "0xFFEDD924361FA74D9CFF5DCBD68C5D47    22\n",
       "0x17D161E70BA24E459971F4506B095F6D    22\n",
       "0x75A7244FB0EB3041ACC0E5F2891D13A0    22\n",
       "0xC8CCE32F1F5BB64395D49C97F8EFF3A6    22\n",
       "0x4E340D53D937DA47A392BD239C50409F    21\n",
       "Name: npo_account_id, dtype: int64"
      ]
     },
     "execution_count": 12,
     "metadata": {},
     "output_type": "execute_result"
    }
   ],
   "execution_count": 12
  },
  {
   "metadata": {
    "ExecuteTime": {
     "end_time": "2024-04-12T16:02:12.959913Z",
     "start_time": "2024-04-12T16:02:12.128796Z"
    }
   },
   "cell_type": "code",
   "source": [
    "client_df = df.groupby(by=[\"client_id\"]).churn.agg(churm_min=\"min\", churm_max=\"max\")\n",
    "client_df[\"churm_diff\"] = client_df[\"churm_max\"] - client_df[\"churm_min\"]\n",
    "print(client_df[\"churm_diff\"].max())\n",
    "client_df[\"churm_diff\"].sort_values(ascending=False).head(10)"
   ],
   "id": "ad3b73fef0549260",
   "outputs": [
    {
     "name": "stdout",
     "output_type": "stream",
     "text": [
      "1\n"
     ]
    },
    {
     "data": {
      "text/plain": [
       "client_id\n",
       "0xB3824473DC6E38449F8D52BC514EDCD2    1\n",
       "0x58D7C5FCE5543946BF06027D873DA909    1\n",
       "0x86262B283AC9274FB9F44B75EEB159EA    1\n",
       "0x8625C94D71F161449D086C992847BA47    1\n",
       "0x58D8EE835D673D448E3B806261613D7B    1\n",
       "0xDAB705CB9A8E5E438A4EE61EAE87157F    1\n",
       "0x86257D0ADD6E0649885A18C10078CE03    1\n",
       "0x3308F4F5DD546D419D0B9B84A5161F13    1\n",
       "0x33093055ACE3564780FDA04E129CEC22    1\n",
       "0x3309855B32345C47B240E5C894554FEF    1\n",
       "Name: churm_diff, dtype: int64"
      ]
     },
     "execution_count": 48,
     "metadata": {},
     "output_type": "execute_result"
    }
   ],
   "execution_count": 48
  },
  {
   "metadata": {
    "ExecuteTime": {
     "end_time": "2024-04-12T15:58:21.388612Z",
     "start_time": "2024-04-12T15:58:21.203579Z"
    }
   },
   "cell_type": "code",
   "source": "df.loc(\"0xB3824473DC6E38449F8D52BC514EDCD2\") ",
   "id": "7b3903b77be61621",
   "outputs": [
    {
     "ename": "TypeError",
     "evalue": "unhashable type: 'Series'",
     "output_type": "error",
     "traceback": [
      "\u001B[0;31m---------------------------------------------------------------------------\u001B[0m",
      "\u001B[0;31mTypeError\u001B[0m                                 Traceback (most recent call last)",
      "\u001B[0;32m/var/folders/jt/jbf3p25d6y7gh1_2gzh85xgh0000gn/T/ipykernel_30939/1794270495.py\u001B[0m in \u001B[0;36m?\u001B[0;34m()\u001B[0m\n\u001B[0;32m----> 1\u001B[0;31m \u001B[0mdf\u001B[0m\u001B[0;34m.\u001B[0m\u001B[0mloc\u001B[0m\u001B[0;34m(\u001B[0m\u001B[0mdf\u001B[0m\u001B[0;34m[\u001B[0m\u001B[0;34m\"client_id\"\u001B[0m\u001B[0;34m]\u001B[0m \u001B[0;34m==\u001B[0m \u001B[0;34m\"0xB3824473DC6E38449F8D52BC514EDCD2\"\u001B[0m\u001B[0;34m)\u001B[0m\u001B[0;34m\u001B[0m\u001B[0;34m\u001B[0m\u001B[0m\n\u001B[0m",
      "\u001B[0;32m~/PycharmProjects/skyfort/hackathon/venv/lib/python3.11/site-packages/pandas/core/indexing.py\u001B[0m in \u001B[0;36m?\u001B[0;34m(self, axis)\u001B[0m\n\u001B[1;32m    734\u001B[0m         \u001B[0;31m# we need to return a copy of ourselves\u001B[0m\u001B[0;34m\u001B[0m\u001B[0;34m\u001B[0m\u001B[0m\n\u001B[1;32m    735\u001B[0m         \u001B[0mnew_self\u001B[0m \u001B[0;34m=\u001B[0m \u001B[0mtype\u001B[0m\u001B[0;34m(\u001B[0m\u001B[0mself\u001B[0m\u001B[0;34m)\u001B[0m\u001B[0;34m(\u001B[0m\u001B[0mself\u001B[0m\u001B[0;34m.\u001B[0m\u001B[0mname\u001B[0m\u001B[0;34m,\u001B[0m \u001B[0mself\u001B[0m\u001B[0;34m.\u001B[0m\u001B[0mobj\u001B[0m\u001B[0;34m)\u001B[0m\u001B[0;34m\u001B[0m\u001B[0;34m\u001B[0m\u001B[0m\n\u001B[1;32m    736\u001B[0m \u001B[0;34m\u001B[0m\u001B[0m\n\u001B[1;32m    737\u001B[0m         \u001B[0;32mif\u001B[0m \u001B[0maxis\u001B[0m \u001B[0;32mis\u001B[0m \u001B[0;32mnot\u001B[0m \u001B[0;32mNone\u001B[0m\u001B[0;34m:\u001B[0m\u001B[0;34m\u001B[0m\u001B[0;34m\u001B[0m\u001B[0m\n\u001B[0;32m--> 738\u001B[0;31m             \u001B[0maxis_int_none\u001B[0m \u001B[0;34m=\u001B[0m \u001B[0mself\u001B[0m\u001B[0;34m.\u001B[0m\u001B[0mobj\u001B[0m\u001B[0;34m.\u001B[0m\u001B[0m_get_axis_number\u001B[0m\u001B[0;34m(\u001B[0m\u001B[0maxis\u001B[0m\u001B[0;34m)\u001B[0m\u001B[0;34m\u001B[0m\u001B[0;34m\u001B[0m\u001B[0m\n\u001B[0m\u001B[1;32m    739\u001B[0m         \u001B[0;32melse\u001B[0m\u001B[0;34m:\u001B[0m\u001B[0;34m\u001B[0m\u001B[0;34m\u001B[0m\u001B[0m\n\u001B[1;32m    740\u001B[0m             \u001B[0maxis_int_none\u001B[0m \u001B[0;34m=\u001B[0m \u001B[0maxis\u001B[0m\u001B[0;34m\u001B[0m\u001B[0;34m\u001B[0m\u001B[0m\n\u001B[1;32m    741\u001B[0m         \u001B[0mnew_self\u001B[0m\u001B[0;34m.\u001B[0m\u001B[0maxis\u001B[0m \u001B[0;34m=\u001B[0m \u001B[0maxis_int_none\u001B[0m\u001B[0;34m\u001B[0m\u001B[0;34m\u001B[0m\u001B[0m\n",
      "\u001B[0;32m~/PycharmProjects/skyfort/hackathon/venv/lib/python3.11/site-packages/pandas/core/generic.py\u001B[0m in \u001B[0;36m?\u001B[0;34m(cls, axis)\u001B[0m\n\u001B[1;32m    573\u001B[0m     \u001B[0;34m@\u001B[0m\u001B[0mclassmethod\u001B[0m\u001B[0;34m\u001B[0m\u001B[0;34m\u001B[0m\u001B[0m\n\u001B[1;32m    574\u001B[0m     \u001B[0;32mdef\u001B[0m \u001B[0m_get_axis_number\u001B[0m\u001B[0;34m(\u001B[0m\u001B[0mcls\u001B[0m\u001B[0;34m,\u001B[0m \u001B[0maxis\u001B[0m\u001B[0;34m:\u001B[0m \u001B[0mAxis\u001B[0m\u001B[0;34m)\u001B[0m \u001B[0;34m->\u001B[0m \u001B[0mAxisInt\u001B[0m\u001B[0;34m:\u001B[0m\u001B[0;34m\u001B[0m\u001B[0;34m\u001B[0m\u001B[0m\n\u001B[1;32m    575\u001B[0m         \u001B[0;32mtry\u001B[0m\u001B[0;34m:\u001B[0m\u001B[0;34m\u001B[0m\u001B[0;34m\u001B[0m\u001B[0m\n\u001B[1;32m    576\u001B[0m             \u001B[0;32mreturn\u001B[0m \u001B[0mcls\u001B[0m\u001B[0;34m.\u001B[0m\u001B[0m_AXIS_TO_AXIS_NUMBER\u001B[0m\u001B[0;34m[\u001B[0m\u001B[0maxis\u001B[0m\u001B[0;34m]\u001B[0m\u001B[0;34m\u001B[0m\u001B[0;34m\u001B[0m\u001B[0m\n\u001B[0;32m--> 577\u001B[0;31m         \u001B[0;32mexcept\u001B[0m \u001B[0mKeyError\u001B[0m\u001B[0;34m:\u001B[0m\u001B[0;34m\u001B[0m\u001B[0;34m\u001B[0m\u001B[0m\n\u001B[0m\u001B[1;32m    578\u001B[0m             \u001B[0;32mraise\u001B[0m \u001B[0mValueError\u001B[0m\u001B[0;34m(\u001B[0m\u001B[0;34mf\"No axis named {axis} for object type {cls.__name__}\"\u001B[0m\u001B[0;34m)\u001B[0m\u001B[0;34m\u001B[0m\u001B[0;34m\u001B[0m\u001B[0m\n",
      "\u001B[0;31mTypeError\u001B[0m: unhashable type: 'Series'"
     ]
    }
   ],
   "execution_count": 46
  },
  {
   "metadata": {},
   "cell_type": "code",
   "outputs": [],
   "execution_count": null,
   "source": "",
   "id": "d9d784ffab546889"
  }
 ],
 "metadata": {
  "kernelspec": {
   "display_name": "Python 3",
   "language": "python",
   "name": "python3"
  },
  "language_info": {
   "codemirror_mode": {
    "name": "ipython",
    "version": 2
   },
   "file_extension": ".py",
   "mimetype": "text/x-python",
   "name": "python",
   "nbconvert_exporter": "python",
   "pygments_lexer": "ipython2",
   "version": "2.7.6"
  }
 },
 "nbformat": 4,
 "nbformat_minor": 5
}
